{
 "cells": [
  {
   "cell_type": "code",
   "execution_count": 3,
   "metadata": {},
   "outputs": [],
   "source": [
    "!pip freeze > requirements.txt"
   ]
  },
  {
   "cell_type": "code",
   "execution_count": 1,
   "metadata": {},
   "outputs": [
    {
     "name": "stdout",
     "output_type": "stream",
     "text": [
      "Requirement already satisfied: asttokens==2.4.0 in d:\\github\\burger_king_timeseries\\venv\\lib\\site-packages (from -r requirements.txt (line 1)) (2.4.0)\n",
      "Requirement already satisfied: backcall==0.2.0 in d:\\github\\burger_king_timeseries\\venv\\lib\\site-packages (from -r requirements.txt (line 2)) (0.2.0)\n",
      "Requirement already satisfied: colorama==0.4.6 in d:\\github\\burger_king_timeseries\\venv\\lib\\site-packages (from -r requirements.txt (line 3)) (0.4.6)\n",
      "Requirement already satisfied: comm==0.1.4 in d:\\github\\burger_king_timeseries\\venv\\lib\\site-packages (from -r requirements.txt (line 4)) (0.1.4)\n",
      "Collecting contourpy==1.1.1\n",
      "  Using cached contourpy-1.1.1-cp310-cp310-win_amd64.whl (477 kB)\n",
      "Collecting cycler==0.12.1\n",
      "  Using cached cycler-0.12.1-py3-none-any.whl (8.3 kB)\n",
      "Requirement already satisfied: debugpy==1.8.0 in d:\\github\\burger_king_timeseries\\venv\\lib\\site-packages (from -r requirements.txt (line 7)) (1.8.0)\n",
      "Requirement already satisfied: decorator==5.1.1 in d:\\github\\burger_king_timeseries\\venv\\lib\\site-packages (from -r requirements.txt (line 8)) (5.1.1)\n",
      "Collecting et-xmlfile==1.1.0\n",
      "  Using cached et_xmlfile-1.1.0-py3-none-any.whl (4.7 kB)\n",
      "Requirement already satisfied: executing==2.0.0 in d:\\github\\burger_king_timeseries\\venv\\lib\\site-packages (from -r requirements.txt (line 10)) (2.0.0)\n",
      "Collecting fonttools==4.43.1\n",
      "  Using cached fonttools-4.43.1-cp310-cp310-win_amd64.whl (2.1 MB)\n",
      "Collecting install==1.3.5\n",
      "  Using cached install-1.3.5-py3-none-any.whl (3.2 kB)\n",
      "Requirement already satisfied: ipykernel==6.25.2 in d:\\github\\burger_king_timeseries\\venv\\lib\\site-packages (from -r requirements.txt (line 13)) (6.25.2)\n",
      "Requirement already satisfied: ipython==8.16.1 in d:\\github\\burger_king_timeseries\\venv\\lib\\site-packages (from -r requirements.txt (line 14)) (8.16.1)\n",
      "Requirement already satisfied: jedi==0.19.1 in d:\\github\\burger_king_timeseries\\venv\\lib\\site-packages (from -r requirements.txt (line 15)) (0.19.1)\n",
      "Requirement already satisfied: jupyter_client==8.3.1 in d:\\github\\burger_king_timeseries\\venv\\lib\\site-packages (from -r requirements.txt (line 16)) (8.3.1)\n",
      "Requirement already satisfied: jupyter_core==5.3.2 in d:\\github\\burger_king_timeseries\\venv\\lib\\site-packages (from -r requirements.txt (line 17)) (5.3.2)\n",
      "Collecting kiwisolver==1.4.5\n",
      "  Using cached kiwisolver-1.4.5-cp310-cp310-win_amd64.whl (56 kB)\n",
      "Collecting matplotlib==3.8.0\n",
      "  Using cached matplotlib-3.8.0-cp310-cp310-win_amd64.whl (7.6 MB)\n",
      "Requirement already satisfied: matplotlib-inline==0.1.6 in d:\\github\\burger_king_timeseries\\venv\\lib\\site-packages (from -r requirements.txt (line 20)) (0.1.6)\n",
      "Requirement already satisfied: nest-asyncio==1.5.8 in d:\\github\\burger_king_timeseries\\venv\\lib\\site-packages (from -r requirements.txt (line 21)) (1.5.8)\n",
      "Collecting numpy==1.26.0\n",
      "  Using cached numpy-1.26.0-cp310-cp310-win_amd64.whl (15.8 MB)\n",
      "Collecting openpyxl==3.1.2\n",
      "  Using cached openpyxl-3.1.2-py2.py3-none-any.whl (249 kB)\n",
      "Requirement already satisfied: packaging==23.2 in d:\\github\\burger_king_timeseries\\venv\\lib\\site-packages (from -r requirements.txt (line 24)) (23.2)\n",
      "Collecting pandas==2.1.1\n",
      "  Using cached pandas-2.1.1-cp310-cp310-win_amd64.whl (10.7 MB)\n",
      "Requirement already satisfied: parso==0.8.3 in d:\\github\\burger_king_timeseries\\venv\\lib\\site-packages (from -r requirements.txt (line 26)) (0.8.3)\n",
      "Collecting patsy==0.5.3\n",
      "  Using cached patsy-0.5.3-py2.py3-none-any.whl (233 kB)\n",
      "Requirement already satisfied: pickleshare==0.7.5 in d:\\github\\burger_king_timeseries\\venv\\lib\\site-packages (from -r requirements.txt (line 28)) (0.7.5)\n",
      "Collecting Pillow==10.0.1\n",
      "  Using cached Pillow-10.0.1-cp310-cp310-win_amd64.whl (2.5 MB)\n",
      "Requirement already satisfied: platformdirs==3.11.0 in d:\\github\\burger_king_timeseries\\venv\\lib\\site-packages (from -r requirements.txt (line 30)) (3.11.0)\n",
      "Requirement already satisfied: prompt-toolkit==3.0.39 in d:\\github\\burger_king_timeseries\\venv\\lib\\site-packages (from -r requirements.txt (line 31)) (3.0.39)\n",
      "Requirement already satisfied: psutil==5.9.5 in d:\\github\\burger_king_timeseries\\venv\\lib\\site-packages (from -r requirements.txt (line 32)) (5.9.5)\n",
      "Requirement already satisfied: pure-eval==0.2.2 in d:\\github\\burger_king_timeseries\\venv\\lib\\site-packages (from -r requirements.txt (line 33)) (0.2.2)\n",
      "Requirement already satisfied: Pygments==2.16.1 in d:\\github\\burger_king_timeseries\\venv\\lib\\site-packages (from -r requirements.txt (line 34)) (2.16.1)\n",
      "Collecting pyparsing==3.1.1\n",
      "  Using cached pyparsing-3.1.1-py3-none-any.whl (103 kB)\n",
      "Requirement already satisfied: python-dateutil==2.8.2 in d:\\github\\burger_king_timeseries\\venv\\lib\\site-packages (from -r requirements.txt (line 36)) (2.8.2)\n",
      "Collecting pytz==2023.3.post1\n",
      "  Using cached pytz-2023.3.post1-py2.py3-none-any.whl (502 kB)\n",
      "Requirement already satisfied: pywin32==306 in d:\\github\\burger_king_timeseries\\venv\\lib\\site-packages (from -r requirements.txt (line 38)) (306)\n",
      "Requirement already satisfied: pyzmq==25.1.1 in d:\\github\\burger_king_timeseries\\venv\\lib\\site-packages (from -r requirements.txt (line 39)) (25.1.1)\n",
      "Collecting scipy==1.11.3\n",
      "  Using cached scipy-1.11.3-cp310-cp310-win_amd64.whl (44.1 MB)\n",
      "Collecting seaborn==0.13.0\n",
      "  Using cached seaborn-0.13.0-py3-none-any.whl (294 kB)\n",
      "Requirement already satisfied: six==1.16.0 in d:\\github\\burger_king_timeseries\\venv\\lib\\site-packages (from -r requirements.txt (line 42)) (1.16.0)\n",
      "Requirement already satisfied: stack-data==0.6.3 in d:\\github\\burger_king_timeseries\\venv\\lib\\site-packages (from -r requirements.txt (line 43)) (0.6.3)\n",
      "Collecting statsmodels==0.14.0\n",
      "  Downloading statsmodels-0.14.0-cp310-cp310-win_amd64.whl (9.2 MB)\n",
      "     ---------------------------------------- 9.2/9.2 MB 1.9 MB/s eta 0:00:00\n",
      "Requirement already satisfied: tornado==6.3.3 in d:\\github\\burger_king_timeseries\\venv\\lib\\site-packages (from -r requirements.txt (line 45)) (6.3.3)\n",
      "Requirement already satisfied: traitlets==5.11.2 in d:\\github\\burger_king_timeseries\\venv\\lib\\site-packages (from -r requirements.txt (line 46)) (5.11.2)\n",
      "Collecting tzdata==2023.3\n",
      "  Using cached tzdata-2023.3-py2.py3-none-any.whl (341 kB)\n",
      "Requirement already satisfied: wcwidth==0.2.8 in d:\\github\\burger_king_timeseries\\venv\\lib\\site-packages (from -r requirements.txt (line 48)) (0.2.8)\n",
      "Requirement already satisfied: exceptiongroup in d:\\github\\burger_king_timeseries\\venv\\lib\\site-packages (from ipython==8.16.1->-r requirements.txt (line 14)) (1.1.3)\n",
      "Installing collected packages: pytz, tzdata, pyparsing, Pillow, numpy, kiwisolver, install, fonttools, et-xmlfile, cycler, scipy, patsy, pandas, openpyxl, contourpy, statsmodels, matplotlib, seaborn\n",
      "Successfully installed Pillow-10.0.1 contourpy-1.1.1 cycler-0.12.1 et-xmlfile-1.1.0 fonttools-4.43.1 install-1.3.5 kiwisolver-1.4.5 matplotlib-3.8.0 numpy-1.26.0 openpyxl-3.1.2 pandas-2.1.1 patsy-0.5.3 pyparsing-3.1.1 pytz-2023.3.post1 scipy-1.11.3 seaborn-0.13.0 statsmodels-0.14.0 tzdata-2023.3\n"
     ]
    },
    {
     "name": "stderr",
     "output_type": "stream",
     "text": [
      "\n",
      "[notice] A new release of pip available: 22.2.1 -> 23.2.1\n",
      "[notice] To update, run: python.exe -m pip install --upgrade pip\n"
     ]
    }
   ],
   "source": [
    "!pip install -r requirements.txt"
   ]
  },
  {
   "cell_type": "code",
   "execution_count": null,
   "metadata": {},
   "outputs": [],
   "source": []
  }
 ],
 "metadata": {
  "kernelspec": {
   "display_name": "Python 3.10.6 64-bit",
   "language": "python",
   "name": "python3"
  },
  "language_info": {
   "codemirror_mode": {
    "name": "ipython",
    "version": 3
   },
   "file_extension": ".py",
   "mimetype": "text/x-python",
   "name": "python",
   "nbconvert_exporter": "python",
   "pygments_lexer": "ipython3",
   "version": "3.11.4"
  },
  "orig_nbformat": 4,
  "vscode": {
   "interpreter": {
    "hash": "26de051ba29f2982a8de78e945f0abaf191376122a1563185a90213a26c5da77"
   }
  }
 },
 "nbformat": 4,
 "nbformat_minor": 2
}
